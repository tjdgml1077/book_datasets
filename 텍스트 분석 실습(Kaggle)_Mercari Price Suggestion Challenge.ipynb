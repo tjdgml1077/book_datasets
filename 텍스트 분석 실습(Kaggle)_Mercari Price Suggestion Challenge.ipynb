{
 "cells": [
  {
   "cell_type": "code",
   "execution_count": 2,
   "id": "f18a699c",
   "metadata": {},
   "outputs": [],
   "source": [
    "import pandas as pd\n",
    "import numpy as np\n",
    "import matplotlib.pyplot as plt\n",
    "import seaborn as sns\n",
    "%matplotlib inline\n",
    "\n",
    "from scipy.sparse import hstack\n",
    "import gc\n",
    "\n",
    "from sklearn.preprocessing import LabelBinarizer\n",
    "from sklearn.linear_model import Ridge, LogisticRegression\n",
    "from lightgbm import LGBMRegressor\n",
    "from sklearn.model_selection import train_test_split, cross_val_score\n",
    "from sklearn.feature_extraction.text import CountVectorizer, TfidfVectorizer\n",
    "\n",
    "import warnings\n",
    "warnings.filterwarnings('ignore')\n",
    "\n",
    "import matplotlib as mpl\n",
    "mpl.rc('font', family = 'NanumGothic')\n",
    "mpl.rc('axes', unicode_minus = False)"
   ]
  },
  {
   "cell_type": "code",
   "execution_count": 3,
   "id": "bdebb08f",
   "metadata": {},
   "outputs": [
    {
     "name": "stdout",
     "output_type": "stream",
     "text": [
      "(1482535, 8)\n"
     ]
    },
    {
     "data": {
      "text/html": [
       "<div>\n",
       "<style scoped>\n",
       "    .dataframe tbody tr th:only-of-type {\n",
       "        vertical-align: middle;\n",
       "    }\n",
       "\n",
       "    .dataframe tbody tr th {\n",
       "        vertical-align: top;\n",
       "    }\n",
       "\n",
       "    .dataframe thead th {\n",
       "        text-align: right;\n",
       "    }\n",
       "</style>\n",
       "<table border=\"1\" class=\"dataframe\">\n",
       "  <thead>\n",
       "    <tr style=\"text-align: right;\">\n",
       "      <th></th>\n",
       "      <th>train_id</th>\n",
       "      <th>name</th>\n",
       "      <th>item_condition_id</th>\n",
       "      <th>category_name</th>\n",
       "      <th>brand_name</th>\n",
       "      <th>price</th>\n",
       "      <th>shipping</th>\n",
       "      <th>item_description</th>\n",
       "    </tr>\n",
       "  </thead>\n",
       "  <tbody>\n",
       "    <tr>\n",
       "      <th>0</th>\n",
       "      <td>0</td>\n",
       "      <td>MLB Cincinnati Reds T Shirt Size XL</td>\n",
       "      <td>3</td>\n",
       "      <td>Men/Tops/T-shirts</td>\n",
       "      <td>NaN</td>\n",
       "      <td>10.0</td>\n",
       "      <td>1</td>\n",
       "      <td>No description yet</td>\n",
       "    </tr>\n",
       "    <tr>\n",
       "      <th>1</th>\n",
       "      <td>1</td>\n",
       "      <td>Razer BlackWidow Chroma Keyboard</td>\n",
       "      <td>3</td>\n",
       "      <td>Electronics/Computers &amp; Tablets/Components &amp; P...</td>\n",
       "      <td>Razer</td>\n",
       "      <td>52.0</td>\n",
       "      <td>0</td>\n",
       "      <td>This keyboard is in great condition and works ...</td>\n",
       "    </tr>\n",
       "    <tr>\n",
       "      <th>2</th>\n",
       "      <td>2</td>\n",
       "      <td>AVA-VIV Blouse</td>\n",
       "      <td>1</td>\n",
       "      <td>Women/Tops &amp; Blouses/Blouse</td>\n",
       "      <td>Target</td>\n",
       "      <td>10.0</td>\n",
       "      <td>1</td>\n",
       "      <td>Adorable top with a hint of lace and a key hol...</td>\n",
       "    </tr>\n",
       "  </tbody>\n",
       "</table>\n",
       "</div>"
      ],
      "text/plain": [
       "   train_id                                 name  item_condition_id  \\\n",
       "0         0  MLB Cincinnati Reds T Shirt Size XL                  3   \n",
       "1         1     Razer BlackWidow Chroma Keyboard                  3   \n",
       "2         2                       AVA-VIV Blouse                  1   \n",
       "\n",
       "                                       category_name brand_name  price  \\\n",
       "0                                  Men/Tops/T-shirts        NaN   10.0   \n",
       "1  Electronics/Computers & Tablets/Components & P...      Razer   52.0   \n",
       "2                        Women/Tops & Blouses/Blouse     Target   10.0   \n",
       "\n",
       "   shipping                                   item_description  \n",
       "0         1                                 No description yet  \n",
       "1         0  This keyboard is in great condition and works ...  \n",
       "2         1  Adorable top with a hint of lace and a key hol...  "
      ]
     },
     "execution_count": 3,
     "metadata": {},
     "output_type": "execute_result"
    }
   ],
   "source": [
    "mercari_df = pd.read_csv(\"mercari_train.tsv\", sep = '\\t')\n",
    "print(mercari_df.shape)\n",
    "mercari_df.head(3)"
   ]
  },
  {
   "cell_type": "code",
   "execution_count": 5,
   "id": "5ae80a32",
   "metadata": {},
   "outputs": [
    {
     "name": "stdout",
     "output_type": "stream",
     "text": [
      "<class 'pandas.core.frame.DataFrame'>\n",
      "RangeIndex: 1482535 entries, 0 to 1482534\n",
      "Data columns (total 8 columns):\n",
      " #   Column             Non-Null Count    Dtype  \n",
      "---  ------             --------------    -----  \n",
      " 0   train_id           1482535 non-null  int64  \n",
      " 1   name               1482535 non-null  object \n",
      " 2   item_condition_id  1482535 non-null  int64  \n",
      " 3   category_name      1476208 non-null  object \n",
      " 4   brand_name         849853 non-null   object \n",
      " 5   price              1482535 non-null  float64\n",
      " 6   shipping           1482535 non-null  int64  \n",
      " 7   item_description   1482531 non-null  object \n",
      "dtypes: float64(1), int64(3), object(4)\n",
      "memory usage: 90.5+ MB\n"
     ]
    }
   ],
   "source": [
    "mercari_df.info()"
   ]
  },
  {
   "cell_type": "markdown",
   "id": "63333b10",
   "metadata": {},
   "source": [
    "# 데이터 전처리"
   ]
  },
  {
   "cell_type": "code",
   "execution_count": 6,
   "id": "37162419",
   "metadata": {},
   "outputs": [
    {
     "data": {
      "text/plain": [
       "train_id                  0\n",
       "name                      0\n",
       "item_condition_id         0\n",
       "category_name          6327\n",
       "brand_name           632682\n",
       "price                     0\n",
       "shipping                  0\n",
       "item_description          4\n",
       "dtype: int64"
      ]
     },
     "execution_count": 6,
     "metadata": {},
     "output_type": "execute_result"
    }
   ],
   "source": [
    "mercari_df.isnull().sum()"
   ]
  },
  {
   "cell_type": "code",
   "execution_count": 16,
   "id": "7041089a",
   "metadata": {},
   "outputs": [
    {
     "data": {
      "text/plain": [
       "Text(0.5, 1.0, 'log 변환 전 Price 분포도')"
      ]
     },
     "execution_count": 16,
     "metadata": {},
     "output_type": "execute_result"
    },
    {
     "data": {
      "image/png": "[encoded data removed]",
      "text/plain": [
       "<Figure size 432x288 with 1 Axes>"
      ]
     },
     "metadata": {
      "needs_background": "light"
     },
     "output_type": "display_data"
    }
   ],
   "source": [
    "# price 컬럼(target)의 데이터 분포도\n",
    "y_train_df = mercari_df['price']\n",
    "plt.figure(figsize = (6, 4))\n",
    "sns.distplot(y_train_df, kde = False)\n",
    "plt.title('log 변환 전 Price 분포도')"
   ]
  },
  {
   "cell_type": "code",
   "execution_count": 17,
   "id": "15564417",
   "metadata": {},
   "outputs": [
    {
     "data": {
      "text/plain": [
       "Text(0.5, 1.0, 'log 변한 후 Price 분포도')"
      ]
     },
     "execution_count": 17,
     "metadata": {},
     "output_type": "execute_result"
    },
    {
     "data": {
      "image/png": "[encoded data removed]",
      "text/plain": [
       "<Figure size 432x288 with 1 Axes>"
      ]
     },
     "metadata": {
      "needs_background": "light"
     },
     "output_type": "display_data"
    }
   ],
   "source": [
    "y_train_df = np.log1p(y_train_df)\n",
    "sns.distplot(y_train_df, kde = False)\n",
    "plt.title('log 변한 후 Price 분포도')"
   ]
  },
  {
   "cell_type": "code",
   "execution_count": 4,
   "id": "100c9be0",
   "metadata": {},
   "outputs": [
    {
     "data": {
      "text/plain": [
       "0    2.397895\n",
       "1    3.970292\n",
       "2    2.397895\n",
       "Name: price, dtype: float64"
      ]
     },
     "execution_count": 4,
     "metadata": {},
     "output_type": "execute_result"
    }
   ],
   "source": [
    "mercari_df['price'] = np.log1p(mercari_df['price'])\n",
    "mercari_df['price'].head(3)"
   ]
  },
  {
   "cell_type": "code",
   "execution_count": 26,
   "id": "c3d3a2d3",
   "metadata": {},
   "outputs": [
    {
     "name": "stdout",
     "output_type": "stream",
     "text": [
      "Shipping 값 유형: \n",
      " 0    819435\n",
      "1    663100\n",
      "Name: shipping, dtype: int64 \n",
      "\n",
      "item_condition_id 값 유형: \n",
      " 1    640549\n",
      "3    432161\n",
      "2    375479\n",
      "4     31962\n",
      "5      2384\n",
      "Name: item_condition_id, dtype: int64\n"
     ]
    }
   ],
   "source": [
    "print('Shipping 값 유형: \\n', mercari_df['shipping'].value_counts(), '\\n')\n",
    "print('item_condition_id 값 유형: \\n', mercari_df['item_condition_id'].value_counts())"
   ]
  },
  {
   "cell_type": "code",
   "execution_count": 5,
   "id": "a8385669",
   "metadata": {},
   "outputs": [
    {
     "data": {
      "text/plain": [
       "0           True\n",
       "1          False\n",
       "2          False\n",
       "3          False\n",
       "4          False\n",
       "           ...  \n",
       "1482530    False\n",
       "1482531    False\n",
       "1482532    False\n",
       "1482533    False\n",
       "1482534    False\n",
       "Name: item_description, Length: 1482535, dtype: bool"
      ]
     },
     "execution_count": 5,
     "metadata": {},
     "output_type": "execute_result"
    }
   ],
   "source": [
    "# item_condition 칼럼은 description에 대한 별도 설명이 없는 경우 'No description yet' 값으로 돼 있다.\n",
    "boolean_cond = mercari_df['item_description'] == 'No description yet'\n",
    "boolean_cond"
   ]
  },
  {
   "cell_type": "code",
   "execution_count": 28,
   "id": "9f0b543d",
   "metadata": {},
   "outputs": [
    {
     "data": {
      "text/plain": [
       "0          No description yet\n",
       "13         No description yet\n",
       "31         No description yet\n",
       "90         No description yet\n",
       "117        No description yet\n",
       "                  ...        \n",
       "1482430    No description yet\n",
       "1482447    No description yet\n",
       "1482470    No description yet\n",
       "1482496    No description yet\n",
       "1482498    No description yet\n",
       "Name: item_description, Length: 82489, dtype: object"
      ]
     },
     "execution_count": 28,
     "metadata": {},
     "output_type": "execute_result"
    }
   ],
   "source": [
    "mercari_df[boolean_cond]['item_description']"
   ]
  },
  {
   "cell_type": "code",
   "execution_count": 6,
   "id": "377e02d0",
   "metadata": {},
   "outputs": [
    {
     "data": {
      "text/plain": [
       "82489"
      ]
     },
     "execution_count": 6,
     "metadata": {},
     "output_type": "execute_result"
    }
   ],
   "source": [
    "mercari_df[boolean_cond]['item_description'].count()"
   ]
  },
  {
   "cell_type": "markdown",
   "id": "ed2d412c",
   "metadata": {},
   "source": [
    "#### category_name"
   ]
  },
  {
   "cell_type": "code",
   "execution_count": 8,
   "id": "36dc7c85",
   "metadata": {},
   "outputs": [
    {
     "data": {
      "text/plain": [
       "0                                    Men/Tops/T-shirts\n",
       "1    Electronics/Computers & Tablets/Components & P...\n",
       "2                          Women/Tops & Blouses/Blouse\n",
       "Name: category_name, dtype: object"
      ]
     },
     "execution_count": 8,
     "metadata": {},
     "output_type": "execute_result"
    }
   ],
   "source": [
    "mercari_df['category_name'].head(3)"
   ]
  },
  {
   "cell_type": "code",
   "execution_count": 9,
   "id": "b6e5f3e3",
   "metadata": {},
   "outputs": [],
   "source": [
    "# apply lambda 에서 호출되는 대, 중, 소 분할 함수 생성\n",
    "# 대, 중, 소 값을 리스트로 반환\n",
    "def split_cat(category_name):\n",
    "    try:\n",
    "        return category_name.split('/')\n",
    "    except: # try 코드가 실패했을 때 나오는 코드\n",
    "        # category_name이 null일 경우 split() 함수가 에러가 error가 발생\n",
    "        # error를 except catch하여 대, 중, 소 분류 모두 'Other Null' 값 부여\n",
    "        return ['Other_Null', 'Other_Null', 'Other_Null']"
   ]
  },
  {
   "cell_type": "code",
   "execution_count": 10,
   "id": "3cd8fabc",
   "metadata": {},
   "outputs": [],
   "source": [
    "# 대, 중, 소 칼럼 생성\n",
    "mercari_df['cat_dae'], mercari_df['cat_jung'], mercari_df['cat_so'] = \\\n",
    "        zip(*mercari_df['category_name'].apply(lambda x: split_cat(x)))"
   ]
  },
  {
   "cell_type": "code",
   "execution_count": 12,
   "id": "424dd89d",
   "metadata": {},
   "outputs": [
    {
     "name": "stdout",
     "output_type": "stream",
     "text": [
      "대분류 유형: \n",
      " Women                     664385\n",
      "Beauty                    207828\n",
      "Kids                      171689\n",
      "Electronics               122690\n",
      "Men                        93680\n",
      "Home                       67871\n",
      "Vintage & Collectibles     46530\n",
      "Other                      45351\n",
      "Handmade                   30842\n",
      "Sports & Outdoors          25342\n",
      "Other_Null                  6327\n",
      "Name: cat_dae, dtype: int64\n",
      "중분류 유형: \n",
      " ['Tops' 'Computers & Tablets' 'Tops & Blouses' 'Home Décor' 'Jewelry'\n",
      " 'Other' 'Swimwear' 'Apparel' 'Collectibles' 'Makeup' 'Fragrance'\n",
      " 'Dresses' 'Office supplies' 'Shoes' 'Gear' 'Athletic Apparel'\n",
      " 'Cell Phones & Accessories' 'Jeans' 'Underwear' 'Skin Care' 'Toys'\n",
      " \"Women's Handbags\" 'Video Games & Consoles' 'Coats & Jackets' 'Pants'\n",
      " 'Girls (4+)' 'Antique' 'Kitchen & Dining' 'Sweaters' 'Boys 0-24 Mos'\n",
      " 'Girls 0-24 Mos' 'Maternity' 'Bedding' 'Exercise' 'Trading Cards'\n",
      " 'Boys (4+)' 'Storage & Organization' 'Fan Shop' 'Girls 2T-5T'\n",
      " \"Men's Accessories\" 'Boys 2T-5T' \"Women's Accessories\"\n",
      " 'Daily & Travel items' 'Other_Null' 'Skirts' 'Hair Care' 'Pet Supplies'\n",
      " 'Book' 'Tools & Accessories' 'Team Sports' 'Home Appliances'\n",
      " 'Accessories' 'Bags and Purses' 'Sweats & Hoodies' 'Shorts'\n",
      " 'TV, Audio & Surveillance' 'Outdoors' 'Bath & Body'\n",
      " 'Car Seats & Accessories' 'Toy' 'Art' 'Seasonal Décor' 'Footwear'\n",
      " 'Housewares' 'Media' 'Cameras & Photography' 'Glass' 'Paper Goods'\n",
      " 'Cleaning Supplies' 'Books' \"Kids' Home Store\" 'Electronics' 'Diapering'\n",
      " 'Bath' 'Children' 'Magazines' 'Artwork' 'Automotive' 'Serving' 'Clothing'\n",
      " 'Supplies' 'Feeding' 'Suits & Blazers' 'Golf' 'Music' 'Pets'\n",
      " 'Health & Baby Care' 'Nursery' 'Furniture' 'Geekery'\n",
      " 'Musical instruments' 'Books and Zines' 'Safety' 'Crochet' 'Home Decor'\n",
      " 'Holidays' 'Strollers' 'Pregnancy & Maternity' 'Needlecraft'\n",
      " 'Paper Ephemera' 'Car Audio, Video & GPS' 'Bathing & Skin Care'\n",
      " 'Dolls and Miniatures' 'Suits' 'Weddings' 'Others' 'Knitting' 'Patterns'\n",
      " 'Blazers & Sport Coats' 'Woodworking' 'Potty Training' 'Candles'\n",
      " 'Ceramics and Pottery' 'Quilts']\n",
      "소분류 유형: \n",
      " 871\n"
     ]
    }
   ],
   "source": [
    "print('대분류 유형: \\n', mercari_df['cat_dae'].value_counts())\n",
    "print('중분류 유형: \\n', mercari_df['cat_jung'].unique()) # 분류 개수만 추출\n",
    "print('소분류 유형: \\n', mercari_df['cat_so'].nunique())\n"
   ]
  },
  {
   "cell_type": "code",
   "execution_count": 17,
   "id": "bc2a26c3",
   "metadata": {},
   "outputs": [
    {
     "name": "stdout",
     "output_type": "stream",
     "text": [
      "대분류 유형: \n",
      " Women                     664385\n",
      "Beauty                    207828\n",
      "Kids                      171689\n",
      "Electronics               122690\n",
      "Men                        93680\n",
      "Home                       67871\n",
      "Vintage & Collectibles     46530\n",
      "Other                      45351\n",
      "Handmade                   30842\n",
      "Sports & Outdoors          25342\n",
      "Other_Null                  6327\n",
      "Name: cat_dae, dtype: int64\n",
      "\n",
      "중분류 유형: \n",
      " Athletic Apparel        134383\n",
      "Makeup                  124624\n",
      "Tops & Blouses          106960\n",
      "Shoes                   100452\n",
      "Jewelry                  61763\n",
      "                         ...  \n",
      "Candles                     64\n",
      "Ceramics and Pottery        57\n",
      "Dolls and Miniatures        49\n",
      "Books and Zines             46\n",
      "Quilts                      31\n",
      "Name: cat_jung, Length: 114, dtype: int64\n",
      "\n",
      "소분류 유형: \n",
      " Pants, Tights, Leggings    60177\n",
      "Other                      50224\n",
      "Face                       50171\n",
      "T-Shirts                   46380\n",
      "Shoes                      32168\n",
      "                           ...  \n",
      "Aceo                           1\n",
      "Bathroom Furniture             1\n",
      "Doorstops                      1\n",
      "Zipper                         1\n",
      "Towel                          1\n",
      "Name: cat_so, Length: 871, dtype: int64\n"
     ]
    }
   ],
   "source": [
    "print('대분류 유형: \\n', mercari_df['cat_dae'].value_counts())\n",
    "print('\\n중분류 유형: \\n', mercari_df['cat_jung'].value_counts()) \n",
    "print('\\n소분류 유형: \\n', mercari_df['cat_so'].value_counts())"
   ]
  },
  {
   "cell_type": "code",
   "execution_count": 14,
   "id": "a7a01fc0",
   "metadata": {},
   "outputs": [
    {
     "name": "stdout",
     "output_type": "stream",
     "text": [
      "대분류 유형: \n",
      " Women                     664385\n",
      "Beauty                    207828\n",
      "Kids                      171689\n",
      "Electronics               122690\n",
      "Men                        93680\n",
      "Home                       67871\n",
      "Vintage & Collectibles     46530\n",
      "Other                      45351\n",
      "Handmade                   30842\n",
      "Sports & Outdoors          25342\n",
      "Other_Null                  6327\n",
      "Name: cat_dae, dtype: int64\n",
      "중분류 유형: \n",
      " 114\n",
      "소분류 유형: \n",
      " 871\n"
     ]
    }
   ],
   "source": [
    "print('대분류 유형: \\n', mercari_df['cat_dae'].value_counts())\n",
    "print('중분류 유형: \\n', mercari_df['cat_jung'].nunique()) # 분류 개수만 추출\n",
    "print('소분류 유형: \\n', mercari_df['cat_so'].nunique())\n"
   ]
  },
  {
   "cell_type": "code",
   "execution_count": 19,
   "id": "91520e62",
   "metadata": {},
   "outputs": [
    {
     "data": {
      "text/plain": [
       "0"
      ]
     },
     "execution_count": 19,
     "metadata": {},
     "output_type": "execute_result"
    }
   ],
   "source": [
    "# 결측치가 존재하는 칼럼을 채움\n",
    "mercari_df['brand_name'] = mercari_df['brand_name'].fillna(value = 'Other_Null')\n",
    "mercari_df['category_name'] = mercari_df['category_name'].fillna(value = 'Other_Null')\n",
    "mercari_df['item_description'] = mercari_df['item_description'].fillna(value = 'Other_Null')\n",
    "\n",
    "mercari_df.isnull().sum().sum()"
   ]
  },
  {
   "cell_type": "code",
   "execution_count": 39,
   "id": "c67cd898",
   "metadata": {},
   "outputs": [
    {
     "data": {
      "text/html": [
       "<div>\n",
       "<style scoped>\n",
       "    .dataframe tbody tr th:only-of-type {\n",
       "        vertical-align: middle;\n",
       "    }\n",
       "\n",
       "    .dataframe tbody tr th {\n",
       "        vertical-align: top;\n",
       "    }\n",
       "\n",
       "    .dataframe thead th {\n",
       "        text-align: right;\n",
       "    }\n",
       "</style>\n",
       "<table border=\"1\" class=\"dataframe\">\n",
       "  <thead>\n",
       "    <tr style=\"text-align: right;\">\n",
       "      <th></th>\n",
       "      <th>train_id</th>\n",
       "      <th>name</th>\n",
       "      <th>item_condition_id</th>\n",
       "      <th>category_name</th>\n",
       "      <th>brand_name</th>\n",
       "      <th>price</th>\n",
       "      <th>shipping</th>\n",
       "      <th>item_description</th>\n",
       "      <th>cat_dae</th>\n",
       "      <th>cat_jung</th>\n",
       "      <th>cat_so</th>\n",
       "    </tr>\n",
       "  </thead>\n",
       "  <tbody>\n",
       "    <tr>\n",
       "      <th>0</th>\n",
       "      <td>0</td>\n",
       "      <td>MLB Cincinnati Reds T Shirt Size XL</td>\n",
       "      <td>3</td>\n",
       "      <td>Men/Tops/T-shirts</td>\n",
       "      <td>Other_Null</td>\n",
       "      <td>2.397895</td>\n",
       "      <td>1</td>\n",
       "      <td>No description yet</td>\n",
       "      <td>Men</td>\n",
       "      <td>Tops</td>\n",
       "      <td>T-shirts</td>\n",
       "    </tr>\n",
       "    <tr>\n",
       "      <th>1</th>\n",
       "      <td>1</td>\n",
       "      <td>Razer BlackWidow Chroma Keyboard</td>\n",
       "      <td>3</td>\n",
       "      <td>Electronics/Computers &amp; Tablets/Components &amp; Parts</td>\n",
       "      <td>Razer</td>\n",
       "      <td>3.970292</td>\n",
       "      <td>0</td>\n",
       "      <td>This keyboard is in great condition and works like it came out of the box. All of the ports are tested and work perfectly. The lights are customizable via the Razer Synapse app on your PC.</td>\n",
       "      <td>Electronics</td>\n",
       "      <td>Computers &amp; Tablets</td>\n",
       "      <td>Components &amp; Parts</td>\n",
       "    </tr>\n",
       "    <tr>\n",
       "      <th>2</th>\n",
       "      <td>2</td>\n",
       "      <td>AVA-VIV Blouse</td>\n",
       "      <td>1</td>\n",
       "      <td>Women/Tops &amp; Blouses/Blouse</td>\n",
       "      <td>Target</td>\n",
       "      <td>2.397895</td>\n",
       "      <td>1</td>\n",
       "      <td>Adorable top with a hint of lace and a key hole in the back! The pale pink is a 1X, and I also have a 3X available in white!</td>\n",
       "      <td>Women</td>\n",
       "      <td>Tops &amp; Blouses</td>\n",
       "      <td>Blouse</td>\n",
       "    </tr>\n",
       "  </tbody>\n",
       "</table>\n",
       "</div>"
      ],
      "text/plain": [
       "   train_id                                 name  item_condition_id  \\\n",
       "0         0  MLB Cincinnati Reds T Shirt Size XL                  3   \n",
       "1         1     Razer BlackWidow Chroma Keyboard                  3   \n",
       "2         2                       AVA-VIV Blouse                  1   \n",
       "\n",
       "                                        category_name  brand_name     price  \\\n",
       "0                                   Men/Tops/T-shirts  Other_Null  2.397895   \n",
       "1  Electronics/Computers & Tablets/Components & Parts       Razer  3.970292   \n",
       "2                         Women/Tops & Blouses/Blouse      Target  2.397895   \n",
       "\n",
       "   shipping  \\\n",
       "0         1   \n",
       "1         0   \n",
       "2         1   \n",
       "\n",
       "                                                                                                                                                                               item_description  \\\n",
       "0                                                                                                                                                                            No description yet   \n",
       "1  This keyboard is in great condition and works like it came out of the box. All of the ports are tested and work perfectly. The lights are customizable via the Razer Synapse app on your PC.   \n",
       "2                                                                  Adorable top with a hint of lace and a key hole in the back! The pale pink is a 1X, and I also have a 3X available in white!   \n",
       "\n",
       "       cat_dae             cat_jung              cat_so  \n",
       "0          Men                 Tops            T-shirts  \n",
       "1  Electronics  Computers & Tablets  Components & Parts  \n",
       "2        Women       Tops & Blouses              Blouse  "
      ]
     },
     "execution_count": 39,
     "metadata": {},
     "output_type": "execute_result"
    }
   ],
   "source": [
    "mercari_df.head(3)"
   ]
  },
  {
   "cell_type": "markdown",
   "id": "447e4864",
   "metadata": {},
   "source": [
    "# 피처 인코딩과 피처 벡터화"
   ]
  },
  {
   "cell_type": "markdown",
   "id": "e86a965b",
   "metadata": {},
   "source": [
    "#### brand_name\n",
    "OneHotEncoding 적용"
   ]
  },
  {
   "cell_type": "code",
   "execution_count": 20,
   "id": "f89b41c9",
   "metadata": {},
   "outputs": [
    {
     "name": "stdout",
     "output_type": "stream",
     "text": [
      "brand name의 유형 건수:  ['Other_Null' 'Razer' 'Target' ... 'Astroglide' 'Cumberland Bay'\n",
      " 'Kids Only']\n",
      "brand name sample 5건: \n",
      " Other_Null           632682\n",
      "PINK                  54088\n",
      "Nike                  54043\n",
      "Victoria's Secret     48036\n",
      "LuLaRoe               31024\n",
      "Name: brand_name, dtype: int64\n"
     ]
    }
   ],
   "source": [
    "print('brand name의 유형 건수: ', mercari_df['brand_name'].unique())\n",
    "print('brand name sample 5건: \\n', mercari_df['brand_name'].value_counts()[:5])"
   ]
  },
  {
   "cell_type": "markdown",
   "id": "e201ac5a",
   "metadata": {},
   "source": [
    "#### name\n",
    "Count 기반으로 피처 벡터화 변환 적용"
   ]
  },
  {
   "cell_type": "code",
   "execution_count": 23,
   "id": "ce3e3c40",
   "metadata": {},
   "outputs": [
    {
     "name": "stdout",
     "output_type": "stream",
     "text": [
      "name의 종류 개수:  1225273\n",
      "name sample 10건: \n",
      " 0       MLB Cincinnati Reds T Shirt Size XL\n",
      "1          Razer BlackWidow Chroma Keyboard\n",
      "2                            AVA-VIV Blouse\n",
      "3                     Leather Horse Statues\n",
      "4                      24K GOLD plated rose\n",
      "5          Bundled items requested for Ruie\n",
      "6        Acacia pacific tides santorini top\n",
      "7      Girls cheer and tumbling bundle of 7\n",
      "8                     Girls Nike Pro shorts\n",
      "9    Porcelain clown doll checker pants VTG\n",
      "Name: name, dtype: object\n"
     ]
    }
   ],
   "source": [
    "print('name의 종류 개수: ', mercari_df['name'].nunique())\n",
    "print('name sample 10건: \\n', mercari_df['name'][:10])"
   ]
  },
  {
   "cell_type": "markdown",
   "id": "64b6e193",
   "metadata": {},
   "source": [
    "#### category_name, shipping, item_condition_id\n",
    "OneHotEncoding"
   ]
  },
  {
   "cell_type": "markdown",
   "id": "91d6eb6d",
   "metadata": {},
   "source": [
    "#### item_description\n",
    "TF-IDF 적용"
   ]
  },
  {
   "cell_type": "code",
   "execution_count": 24,
   "id": "cc1a6952",
   "metadata": {},
   "outputs": [],
   "source": [
    "pd.set_option('max_colwidth', 200) # 컬럼너비 최대값 설정을 200으로 바꿈"
   ]
  },
  {
   "cell_type": "code",
   "execution_count": 25,
   "id": "097af62e",
   "metadata": {},
   "outputs": [
    {
     "name": "stdout",
     "output_type": "stream",
     "text": [
      "item_description 평균 문자열 크기:  145.7113889385411\n"
     ]
    },
    {
     "data": {
      "text/plain": [
       "0                                                                                                                                                                              No description yet\n",
       "1    This keyboard is in great condition and works like it came out of the box. All of the ports are tested and work perfectly. The lights are customizable via the Razer Synapse app on your PC.\n",
       "Name: item_description, dtype: object"
      ]
     },
     "execution_count": 25,
     "metadata": {},
     "output_type": "execute_result"
    }
   ],
   "source": [
    "# item_description의 평균 문자열 크기\n",
    "print('item_description 평균 문자열 크기: ', mercari_df['item_description'].str.len().mean())\n",
    "\n",
    "mercari_df['item_description'][:2]"
   ]
  },
  {
   "cell_type": "code",
   "execution_count": 27,
   "id": "3f316206",
   "metadata": {},
   "outputs": [
    {
     "name": "stdout",
     "output_type": "stream",
     "text": [
      "name vectorization shape:  (1482535, 105757)\n",
      "item_description vectorization shape:  (1482535, 50000)\n"
     ]
    }
   ],
   "source": [
    "# name 속성에 대한 피처 벡터화 변환\n",
    "cnt_vec = CountVectorizer()\n",
    "X_name = cnt_vec.fit_transform(mercari_df.name) # 희소행렬 데이터 반환\n",
    "\n",
    "# item_description에 대한 피처 벡터화 변환\n",
    "tfidf_descp = TfidfVectorizer(max_features = 50000, ngram_range = (1, 3), stop_words = 'english')\n",
    "X_descp = tfidf_descp.fit_transform(mercari_df['item_description']) # 희소행렬 데이터 반환\n",
    "\n",
    "print('name vectorization shape: ', X_name.shape)\n",
    "print('item_description vectorization shape: ', X_descp.shape)"
   ]
  },
  {
   "cell_type": "code",
   "execution_count": 29,
   "id": "f457bab4",
   "metadata": {},
   "outputs": [],
   "source": [
    "# 인코딩 대상 칼럼을 모두 원-핫 인코딩 변환\n",
    "lb_brand_name = LabelBinarizer(sparse_output = True)\n",
    "X_brand = lb_brand_name.fit_transform(mercari_df['brand_name'])\n",
    "\n",
    "lb_item_cond_id = LabelBinarizer(sparse_output = True)\n",
    "X_item_cond_id = lb_item_cond_id.fit_transform(mercari_df['item_condition_id'])\n",
    "\n",
    "lb_shipping = LabelBinarizer(sparse_output = True)\n",
    "X_shipping = lb_shipping.fit_transform(mercari_df['shipping'])\n",
    "\n",
    "lb_cat_dae = LabelBinarizer(sparse_output = True)\n",
    "X_cat_dae = lb_cat_dae.fit_transform(mercari_df['cat_dae'])\n",
    "\n",
    "lb_cat_jung = LabelBinarizer(sparse_output = True)\n",
    "X_cat_jung = lb_cat_jung.fit_transform(mercari_df['cat_jung'])\n",
    "\n",
    "lb_cat_so = LabelBinarizer(sparse_output = True)\n",
    "X_cat_so = lb_cat_so.fit_transform(mercari_df['cat_so'])"
   ]
  },
  {
   "cell_type": "code",
   "execution_count": 31,
   "id": "8a371cbd",
   "metadata": {},
   "outputs": [
    {
     "name": "stdout",
     "output_type": "stream",
     "text": [
      "<class 'scipy.sparse.csr.csr_matrix'> <class 'scipy.sparse.csr.csr_matrix'> <class 'scipy.sparse.csr.csr_matrix'>\n",
      "X_brand shape: (1482535, 4810), X_item_cond_id shape: (1482535, 5)\n",
      "X_shipping shape:(1482535, 1), X_cat_dae shape: (1482535, 11)\n",
      "X_cat_jung shape: (1482535, 114), X_cat_so shape: (1482535, 871)\n"
     ]
    }
   ],
   "source": [
    "print(type(X_brand), type(X_item_cond_id), type(X_shipping))\n",
    "print('X_brand shape: {0}, X_item_cond_id shape: {1}'.format(X_brand.shape, X_item_cond_id.shape))\n",
    "print('X_shipping shape:{0}, X_cat_dae shape: {1}'.format(X_shipping.shape, X_cat_dae.shape))\n",
    "print('X_cat_jung shape: {0}, X_cat_so shape: {1}'.format(X_cat_jung.shape, X_cat_so.shape))"
   ]
  },
  {
   "cell_type": "markdown",
   "id": "9fd2ceea",
   "metadata": {},
   "source": [
    "### 데이터 결합"
   ]
  },
  {
   "cell_type": "code",
   "execution_count": 32,
   "id": "0531b41f",
   "metadata": {},
   "outputs": [
    {
     "name": "stdout",
     "output_type": "stream",
     "text": [
      "<class 'scipy.sparse.csr.csr_matrix'> (1482535, 161569)\n"
     ]
    }
   ],
   "source": [
    "sparse_matrix_list = (X_name, X_descp, X_brand, X_item_cond_id, X_shipping, X_cat_dae, X_cat_jung, X_cat_so)\n",
    "\n",
    "# 인코딩과 벡터활르 수행한 데이터 세트 모두 결합\n",
    "X_features_sparse = hstack(sparse_matrix_list).tocsr()\n",
    "print(type(X_features_sparse), X_features_sparse.shape)"
   ]
  },
  {
   "cell_type": "code",
   "execution_count": 33,
   "id": "66247548",
   "metadata": {},
   "outputs": [
    {
     "data": {
      "text/plain": [
       "114"
      ]
     },
     "execution_count": 33,
     "metadata": {},
     "output_type": "execute_result"
    }
   ],
   "source": [
    "# 데이터세트가 메모리를 많이 차지하므로 사용 목적이 끝났으면 바로 메모리에서 삭제\n",
    "del X_features_sparse\n",
    "gc.collect() # garbage collection, 수동으로 제거"
   ]
  },
  {
   "cell_type": "markdown",
   "id": "1bd67558",
   "metadata": {},
   "source": [
    "# 릿지 회귀모델 구축 및 평가"
   ]
  },
  {
   "cell_type": "code",
   "execution_count": 34,
   "id": "b8d34a99",
   "metadata": {},
   "outputs": [],
   "source": [
    "# 평가 모델 RMSLE\n",
    "def rmsle(y, y_pred):\n",
    "    # underflow, overflow를 막기 위해 log가 아닌 log1p로 rmsle 계산\n",
    "    return np.sqrt(np.mean(np.power(np.log1p(y) - np.log1p(y_pred), 2)))"
   ]
  },
  {
   "cell_type": "code",
   "execution_count": 35,
   "id": "3ac39b93",
   "metadata": {},
   "outputs": [],
   "source": [
    "def evaluate_org_price(y_test, preds):\n",
    "    # 원본 데이터는 log1p로 변환되었으므로 expm1로 원복 필요\n",
    "    preds_expm = np.expm1(preds)\n",
    "    y_test_expm = np.expm1(y_test)\n",
    "    \n",
    "    # rmsle로 RMSLE 값 추출\n",
    "    rmsle_result = rmsle(y_test_expm, preds_expm)\n",
    "    return rmsle_result"
   ]
  },
  {
   "cell_type": "code",
   "execution_count": 36,
   "id": "437cd341",
   "metadata": {},
   "outputs": [],
   "source": [
    "# 학습용 데이터 생성하고, 모델 학습/예측하는 함수\n",
    "def model_train_predict(model, matrix_list):\n",
    "    X = hstack(matrix_list).tocsr() # 희소행렬 결합\n",
    "    \n",
    "    X_train, X_test, y_train, y_test = train_test_split(X, mercari_df['price'], test_size = 0.2, random_state = 42)\n",
    "    \n",
    "    model.fit(X_train, y_train)\n",
    "    preds = model.predict(X_test)\n",
    "    \n",
    "    del X, X_train, X_test, y_train\n",
    "    gc.collect()\n",
    "    \n",
    "    return preds, y_test"
   ]
  },
  {
   "cell_type": "code",
   "execution_count": 40,
   "id": "7f97653e",
   "metadata": {},
   "outputs": [
    {
     "name": "stdout",
     "output_type": "stream",
     "text": [
      "item description을 제외했을 때 rmsle 값:  0.5043174840721716\n",
      "item description을 포함한 rmsle 값:  0.4720922104998887\n"
     ]
    }
   ],
   "source": [
    "linear_model = Ridge(solver = 'lsqr', fit_intercept = False)\n",
    "\n",
    "sparse_matrix_list = (X_name, X_brand, X_item_cond_id, \\\n",
    "                      X_shipping, X_cat_dae, X_cat_jung, X_cat_so)\n",
    "linear_preds, y_test = model_train_predict(model = linear_model, matrix_list = sparse_matrix_list)\n",
    "print('item description을 제외했을 때 rmsle 값: ', evaluate_org_price(y_test, linear_preds))\n",
    "\n",
    "sparse_matrix_list = (X_descp, X_name, X_brand, X_item_cond_id, \\\n",
    "                      X_shipping, X_cat_dae, X_cat_jung, X_cat_so)\n",
    "linear_preds, y_test = model_train_predict(model = linear_model, matrix_list = sparse_matrix_list)\n",
    "print('item description을 포함한 rmsle 값: ', evaluate_org_price(y_test, linear_preds))\n"
   ]
  },
  {
   "cell_type": "markdown",
   "id": "6dd8085a",
   "metadata": {},
   "source": [
    "**item_description을 포함했을 때, rmsle 값이 많이 감소했는 걸 보아, item_description 영향이 중요함을 알 수 있다.**"
   ]
  },
  {
   "cell_type": "markdown",
   "id": "c061a45c",
   "metadata": {},
   "source": [
    "# LightGBM 회귀모델 구축과 앙상블을 이용한 최종 예측 평가"
   ]
  },
  {
   "cell_type": "code",
   "execution_count": 42,
   "id": "f6030a3b",
   "metadata": {},
   "outputs": [
    {
     "name": "stdout",
     "output_type": "stream",
     "text": [
      "LightGBM rmsle 값:  0.45790875304402046\n"
     ]
    }
   ],
   "source": [
    "sparse_matrix_list = (X_descp, X_name, X_brand, X_item_cond_id, \\\n",
    "                      X_shipping, X_cat_dae, X_cat_jung, X_cat_so)\n",
    "\n",
    "# n_estimators를 1000이상 증가시키면 예측성능은 좋아지지만 수행시간이 오래 걸리므로 200으로 작게 설정\n",
    "lgbm_model = LGBMRegressor(n_estimators = 200, learning_rate = 0.5, num_leaves = 125, random_state = 156)\n",
    "lgbm_preds, y_test = model_train_predict(model = lgbm_model, matrix_list = sparse_matrix_list)\n",
    "print('LightGBM rmsle 값: ', evaluate_org_price(y_test, lgbm_preds))"
   ]
  },
  {
   "cell_type": "markdown",
   "id": "1c7eb72d",
   "metadata": {},
   "source": [
    "### 앙상블 최종 예측결과"
   ]
  },
  {
   "cell_type": "code",
   "execution_count": 43,
   "id": "e793fe27",
   "metadata": {},
   "outputs": [
    {
     "name": "stdout",
     "output_type": "stream",
     "text": [
      "LightGBM과 Ridge를 ensemble한 최종 rmsle 값:  0.4512304868618376\n"
     ]
    }
   ],
   "source": [
    "# 각 회귀모델의 예측결과값을 앙상블\n",
    "preds = lgbm_preds * 0.45 + linear_preds * 0.55 # 비율은 임의산정\n",
    "print('LightGBM과 Ridge를 ensemble한 최종 rmsle 값: ', evaluate_org_price(y_test, preds))"
   ]
  },
  {
   "cell_type": "markdown",
   "id": "7716c503",
   "metadata": {},
   "source": [
    "### 다른 비율들의 예측결과"
   ]
  },
  {
   "cell_type": "code",
   "execution_count": 88,
   "id": "a66415a9",
   "metadata": {},
   "outputs": [
    {
     "name": "stdout",
     "output_type": "stream",
     "text": [
      "0.00, 1.00 에서의 rmsle값: 0.4720922104998887\n",
      "0.05, 0.95 에서의 rmsle값: 0.4686725373046303\n",
      "0.10, 0.90 에서의 rmsle값: 0.46551697908368217\n",
      "0.15, 0.85 에서의 rmsle값: 0.46263094037211133\n",
      "0.20, 0.80 에서의 rmsle값: 0.4600194938768515\n",
      "0.25, 0.75 에서의 rmsle값: 0.45768733988017857\n",
      "0.30, 0.70 에서의 rmsle값: 0.4556387670174876\n",
      "0.35, 0.65 에서의 rmsle값: 0.45387761512834573\n",
      "0.40, 0.60 에서의 rmsle값: 0.4524072408822695\n",
      "0.45, 0.55 에서의 rmsle값: 0.4512304868618376\n",
      "0.50, 0.50 에서의 rmsle값: 0.4503496547430473\n",
      "0.55, 0.45 에서의 rmsle값: 0.4497664831482477\n",
      "0.60, 0.40 에서의 rmsle값: 0.44948213065998754\n",
      "0.65, 0.35 에서의 rmsle값: 0.449497164378698\n",
      "0.70, 0.30 에서의 rmsle값: 0.4498115542858854\n",
      "0.75, 0.25 에서의 rmsle값: 0.45042467354311727\n",
      "0.80, 0.20 에서의 rmsle값: 0.4513353047198074\n",
      "0.85, 0.15 에서의 rmsle값: 0.4525416518060522\n",
      "0.90, 0.10 에서의 rmsle값: 0.4540413577361909\n",
      "0.95, 0.05 에서의 rmsle값: 0.45583152702863794\n"
     ]
    }
   ],
   "source": [
    "ensembles = []\n",
    "lgbm_preds_k = []\n",
    "linear_preds_k = []\n",
    "\n",
    "for idx, k in enumerate(np.arange(0, 1, 0.05)):\n",
    "    lgbm_preds_k.append(k)\n",
    "    linear_preds_k.append(1-k)\n",
    "    \n",
    "    preds = lgbm_preds * k + linear_preds * (1 - k)\n",
    "    ensembles.append(evaluate_org_price(y_test, preds))\n",
    "    print('{0:.2f}, {1:.2f} 에서의 rmsle값: {2}'.format(k, 1-k, ensembles[idx]))"
   ]
  },
  {
   "cell_type": "code",
   "execution_count": 90,
   "id": "7a9b6372",
   "metadata": {},
   "outputs": [
    {
     "data": {
      "text/html": [
       "<div>\n",
       "<style scoped>\n",
       "    .dataframe tbody tr th:only-of-type {\n",
       "        vertical-align: middle;\n",
       "    }\n",
       "\n",
       "    .dataframe tbody tr th {\n",
       "        vertical-align: top;\n",
       "    }\n",
       "\n",
       "    .dataframe thead th {\n",
       "        text-align: right;\n",
       "    }\n",
       "</style>\n",
       "<table border=\"1\" class=\"dataframe\">\n",
       "  <thead>\n",
       "    <tr style=\"text-align: right;\">\n",
       "      <th></th>\n",
       "      <th>lgbm_preds_k</th>\n",
       "      <th>linear_preds_k</th>\n",
       "      <th>ensembles</th>\n",
       "    </tr>\n",
       "  </thead>\n",
       "  <tbody>\n",
       "    <tr>\n",
       "      <th>0</th>\n",
       "      <td>0.00</td>\n",
       "      <td>1.00</td>\n",
       "      <td>0.472092</td>\n",
       "    </tr>\n",
       "    <tr>\n",
       "      <th>1</th>\n",
       "      <td>0.05</td>\n",
       "      <td>0.95</td>\n",
       "      <td>0.468673</td>\n",
       "    </tr>\n",
       "    <tr>\n",
       "      <th>2</th>\n",
       "      <td>0.10</td>\n",
       "      <td>0.90</td>\n",
       "      <td>0.465517</td>\n",
       "    </tr>\n",
       "    <tr>\n",
       "      <th>3</th>\n",
       "      <td>0.15</td>\n",
       "      <td>0.85</td>\n",
       "      <td>0.462631</td>\n",
       "    </tr>\n",
       "    <tr>\n",
       "      <th>4</th>\n",
       "      <td>0.20</td>\n",
       "      <td>0.80</td>\n",
       "      <td>0.460019</td>\n",
       "    </tr>\n",
       "    <tr>\n",
       "      <th>5</th>\n",
       "      <td>0.25</td>\n",
       "      <td>0.75</td>\n",
       "      <td>0.457687</td>\n",
       "    </tr>\n",
       "    <tr>\n",
       "      <th>6</th>\n",
       "      <td>0.30</td>\n",
       "      <td>0.70</td>\n",
       "      <td>0.455639</td>\n",
       "    </tr>\n",
       "    <tr>\n",
       "      <th>7</th>\n",
       "      <td>0.35</td>\n",
       "      <td>0.65</td>\n",
       "      <td>0.453878</td>\n",
       "    </tr>\n",
       "    <tr>\n",
       "      <th>8</th>\n",
       "      <td>0.40</td>\n",
       "      <td>0.60</td>\n",
       "      <td>0.452407</td>\n",
       "    </tr>\n",
       "    <tr>\n",
       "      <th>9</th>\n",
       "      <td>0.45</td>\n",
       "      <td>0.55</td>\n",
       "      <td>0.451230</td>\n",
       "    </tr>\n",
       "    <tr>\n",
       "      <th>10</th>\n",
       "      <td>0.50</td>\n",
       "      <td>0.50</td>\n",
       "      <td>0.450350</td>\n",
       "    </tr>\n",
       "    <tr>\n",
       "      <th>11</th>\n",
       "      <td>0.55</td>\n",
       "      <td>0.45</td>\n",
       "      <td>0.449766</td>\n",
       "    </tr>\n",
       "    <tr>\n",
       "      <th>12</th>\n",
       "      <td>0.60</td>\n",
       "      <td>0.40</td>\n",
       "      <td>0.449482</td>\n",
       "    </tr>\n",
       "    <tr>\n",
       "      <th>13</th>\n",
       "      <td>0.65</td>\n",
       "      <td>0.35</td>\n",
       "      <td>0.449497</td>\n",
       "    </tr>\n",
       "    <tr>\n",
       "      <th>14</th>\n",
       "      <td>0.70</td>\n",
       "      <td>0.30</td>\n",
       "      <td>0.449812</td>\n",
       "    </tr>\n",
       "    <tr>\n",
       "      <th>15</th>\n",
       "      <td>0.75</td>\n",
       "      <td>0.25</td>\n",
       "      <td>0.450425</td>\n",
       "    </tr>\n",
       "    <tr>\n",
       "      <th>16</th>\n",
       "      <td>0.80</td>\n",
       "      <td>0.20</td>\n",
       "      <td>0.451335</td>\n",
       "    </tr>\n",
       "    <tr>\n",
       "      <th>17</th>\n",
       "      <td>0.85</td>\n",
       "      <td>0.15</td>\n",
       "      <td>0.452542</td>\n",
       "    </tr>\n",
       "    <tr>\n",
       "      <th>18</th>\n",
       "      <td>0.90</td>\n",
       "      <td>0.10</td>\n",
       "      <td>0.454041</td>\n",
       "    </tr>\n",
       "    <tr>\n",
       "      <th>19</th>\n",
       "      <td>0.95</td>\n",
       "      <td>0.05</td>\n",
       "      <td>0.455832</td>\n",
       "    </tr>\n",
       "  </tbody>\n",
       "</table>\n",
       "</div>"
      ],
      "text/plain": [
       "    lgbm_preds_k  linear_preds_k  ensembles\n",
       "0           0.00            1.00   0.472092\n",
       "1           0.05            0.95   0.468673\n",
       "2           0.10            0.90   0.465517\n",
       "3           0.15            0.85   0.462631\n",
       "4           0.20            0.80   0.460019\n",
       "5           0.25            0.75   0.457687\n",
       "6           0.30            0.70   0.455639\n",
       "7           0.35            0.65   0.453878\n",
       "8           0.40            0.60   0.452407\n",
       "9           0.45            0.55   0.451230\n",
       "10          0.50            0.50   0.450350\n",
       "11          0.55            0.45   0.449766\n",
       "12          0.60            0.40   0.449482\n",
       "13          0.65            0.35   0.449497\n",
       "14          0.70            0.30   0.449812\n",
       "15          0.75            0.25   0.450425\n",
       "16          0.80            0.20   0.451335\n",
       "17          0.85            0.15   0.452542\n",
       "18          0.90            0.10   0.454041\n",
       "19          0.95            0.05   0.455832"
      ]
     },
     "execution_count": 90,
     "metadata": {},
     "output_type": "execute_result"
    }
   ],
   "source": [
    "df = pd.DataFrame({'lgbm_preds_k': lgbm_preds_k, \n",
    "                    'linear_preds_k': linear_preds_k,\n",
    "                    'ensembles': ensembles})\n",
    "df"
   ]
  },
  {
   "cell_type": "code",
   "execution_count": 94,
   "id": "fce3a679",
   "metadata": {},
   "outputs": [
    {
     "data": {
      "text/html": [
       "<div>\n",
       "<style scoped>\n",
       "    .dataframe tbody tr th:only-of-type {\n",
       "        vertical-align: middle;\n",
       "    }\n",
       "\n",
       "    .dataframe tbody tr th {\n",
       "        vertical-align: top;\n",
       "    }\n",
       "\n",
       "    .dataframe thead th {\n",
       "        text-align: right;\n",
       "    }\n",
       "</style>\n",
       "<table border=\"1\" class=\"dataframe\">\n",
       "  <thead>\n",
       "    <tr style=\"text-align: right;\">\n",
       "      <th></th>\n",
       "      <th>lgbm_preds_k</th>\n",
       "      <th>linear_preds_k</th>\n",
       "      <th>ensembles</th>\n",
       "    </tr>\n",
       "  </thead>\n",
       "  <tbody>\n",
       "    <tr>\n",
       "      <th>12</th>\n",
       "      <td>0.60</td>\n",
       "      <td>0.40</td>\n",
       "      <td>0.449482</td>\n",
       "    </tr>\n",
       "    <tr>\n",
       "      <th>13</th>\n",
       "      <td>0.65</td>\n",
       "      <td>0.35</td>\n",
       "      <td>0.449497</td>\n",
       "    </tr>\n",
       "    <tr>\n",
       "      <th>11</th>\n",
       "      <td>0.55</td>\n",
       "      <td>0.45</td>\n",
       "      <td>0.449766</td>\n",
       "    </tr>\n",
       "    <tr>\n",
       "      <th>14</th>\n",
       "      <td>0.70</td>\n",
       "      <td>0.30</td>\n",
       "      <td>0.449812</td>\n",
       "    </tr>\n",
       "    <tr>\n",
       "      <th>10</th>\n",
       "      <td>0.50</td>\n",
       "      <td>0.50</td>\n",
       "      <td>0.450350</td>\n",
       "    </tr>\n",
       "    <tr>\n",
       "      <th>15</th>\n",
       "      <td>0.75</td>\n",
       "      <td>0.25</td>\n",
       "      <td>0.450425</td>\n",
       "    </tr>\n",
       "    <tr>\n",
       "      <th>9</th>\n",
       "      <td>0.45</td>\n",
       "      <td>0.55</td>\n",
       "      <td>0.451230</td>\n",
       "    </tr>\n",
       "    <tr>\n",
       "      <th>16</th>\n",
       "      <td>0.80</td>\n",
       "      <td>0.20</td>\n",
       "      <td>0.451335</td>\n",
       "    </tr>\n",
       "    <tr>\n",
       "      <th>8</th>\n",
       "      <td>0.40</td>\n",
       "      <td>0.60</td>\n",
       "      <td>0.452407</td>\n",
       "    </tr>\n",
       "    <tr>\n",
       "      <th>17</th>\n",
       "      <td>0.85</td>\n",
       "      <td>0.15</td>\n",
       "      <td>0.452542</td>\n",
       "    </tr>\n",
       "    <tr>\n",
       "      <th>7</th>\n",
       "      <td>0.35</td>\n",
       "      <td>0.65</td>\n",
       "      <td>0.453878</td>\n",
       "    </tr>\n",
       "    <tr>\n",
       "      <th>18</th>\n",
       "      <td>0.90</td>\n",
       "      <td>0.10</td>\n",
       "      <td>0.454041</td>\n",
       "    </tr>\n",
       "    <tr>\n",
       "      <th>6</th>\n",
       "      <td>0.30</td>\n",
       "      <td>0.70</td>\n",
       "      <td>0.455639</td>\n",
       "    </tr>\n",
       "    <tr>\n",
       "      <th>19</th>\n",
       "      <td>0.95</td>\n",
       "      <td>0.05</td>\n",
       "      <td>0.455832</td>\n",
       "    </tr>\n",
       "    <tr>\n",
       "      <th>5</th>\n",
       "      <td>0.25</td>\n",
       "      <td>0.75</td>\n",
       "      <td>0.457687</td>\n",
       "    </tr>\n",
       "    <tr>\n",
       "      <th>4</th>\n",
       "      <td>0.20</td>\n",
       "      <td>0.80</td>\n",
       "      <td>0.460019</td>\n",
       "    </tr>\n",
       "    <tr>\n",
       "      <th>3</th>\n",
       "      <td>0.15</td>\n",
       "      <td>0.85</td>\n",
       "      <td>0.462631</td>\n",
       "    </tr>\n",
       "    <tr>\n",
       "      <th>2</th>\n",
       "      <td>0.10</td>\n",
       "      <td>0.90</td>\n",
       "      <td>0.465517</td>\n",
       "    </tr>\n",
       "    <tr>\n",
       "      <th>1</th>\n",
       "      <td>0.05</td>\n",
       "      <td>0.95</td>\n",
       "      <td>0.468673</td>\n",
       "    </tr>\n",
       "    <tr>\n",
       "      <th>0</th>\n",
       "      <td>0.00</td>\n",
       "      <td>1.00</td>\n",
       "      <td>0.472092</td>\n",
       "    </tr>\n",
       "  </tbody>\n",
       "</table>\n",
       "</div>"
      ],
      "text/plain": [
       "    lgbm_preds_k  linear_preds_k  ensembles\n",
       "12          0.60            0.40   0.449482\n",
       "13          0.65            0.35   0.449497\n",
       "11          0.55            0.45   0.449766\n",
       "14          0.70            0.30   0.449812\n",
       "10          0.50            0.50   0.450350\n",
       "15          0.75            0.25   0.450425\n",
       "9           0.45            0.55   0.451230\n",
       "16          0.80            0.20   0.451335\n",
       "8           0.40            0.60   0.452407\n",
       "17          0.85            0.15   0.452542\n",
       "7           0.35            0.65   0.453878\n",
       "18          0.90            0.10   0.454041\n",
       "6           0.30            0.70   0.455639\n",
       "19          0.95            0.05   0.455832\n",
       "5           0.25            0.75   0.457687\n",
       "4           0.20            0.80   0.460019\n",
       "3           0.15            0.85   0.462631\n",
       "2           0.10            0.90   0.465517\n",
       "1           0.05            0.95   0.468673\n",
       "0           0.00            1.00   0.472092"
      ]
     },
     "execution_count": 94,
     "metadata": {},
     "output_type": "execute_result"
    }
   ],
   "source": [
    "df.sort_values(by = 'ensembles')"
   ]
  },
  {
   "cell_type": "code",
   "execution_count": 95,
   "id": "6bebdbca",
   "metadata": {},
   "outputs": [
    {
     "name": "stdout",
     "output_type": "stream",
     "text": [
      "LightGBM과 Ridge를 ensemble한 최종 rmsle 값:  0.44948213065998754\n"
     ]
    }
   ],
   "source": [
    "# 최종결과\n",
    "preds = lgbm_preds * 0.6 + linear_preds * 0.4\n",
    "print('LightGBM과 Ridge를 ensemble한 최종 rmsle 값: ', evaluate_org_price(y_test, preds))"
   ]
  },
  {
   "cell_type": "code",
   "execution_count": null,
   "id": "1fc96c80",
   "metadata": {},
   "outputs": [],
   "source": []
  }
 ],
 "metadata": {
  "kernelspec": {
   "display_name": "Python 3",
   "language": "python",
   "name": "python3"
  },
  "language_info": {
   "codemirror_mode": {
    "name": "ipython",
    "version": 3
   },
   "file_extension": ".py",
   "mimetype": "text/x-python",
   "name": "python",
   "nbconvert_exporter": "python",
   "pygments_lexer": "ipython3",
   "version": "3.8.8"
  }
 },
 "nbformat": 4,
 "nbformat_minor": 5
}
